{
 "cells": [
  {
   "cell_type": "markdown",
   "id": "88030151",
   "metadata": {},
   "source": [
    "## Ques 1.1: Write a Python Program to implement your own myreduce() function which works exactly like Python's built-in function reduce()"
   ]
  },
  {
   "cell_type": "code",
   "execution_count": 17,
   "id": "2a6d9868",
   "metadata": {},
   "outputs": [
    {
     "name": "stdout",
     "output_type": "stream",
     "text": [
      "result of myreduce(): 15\n"
     ]
    }
   ],
   "source": [
    "def myreduce(func, iterable, initial =None):\n",
    "    it = iter(iterable)\n",
    "    \n",
    "    if initial is None:\n",
    "        value = next(it)\n",
    "    else: \n",
    "        value =initial\n",
    "    \n",
    "    for element in it:\n",
    "        value = func(value, element)\n",
    "        \n",
    "    return value\n",
    "\n",
    "\n",
    "def add(x,y):\n",
    "    return x + y\n",
    "\n",
    "numbers = [1,2,3,4,5]\n",
    "result = myreduce(add, numbers)\n",
    "print(\"result of myreduce():\", result)"
   ]
  },
  {
   "cell_type": "code",
   "execution_count": 4,
   "id": "ad9cae10",
   "metadata": {},
   "outputs": [
    {
     "name": "stdout",
     "output_type": "stream",
     "text": [
      "Result of reduce() 15\n"
     ]
    }
   ],
   "source": [
    "from functools import reduce\n",
    "def add(x,y):\n",
    "    return x + y\n",
    "\n",
    "numbers = [1,2,3,4,5]\n",
    "result = reduce(add, numbers)\n",
    "print(\"Result of reduce()\", result)"
   ]
  },
  {
   "cell_type": "markdown",
   "id": "757b7691",
   "metadata": {},
   "source": [
    "##  Ques 1.2: Write a Python program to implement your own myfilter() function which works exactly like Python's built-in function filter()"
   ]
  },
  {
   "cell_type": "code",
   "execution_count": 11,
   "id": "150d6c0a",
   "metadata": {},
   "outputs": [
    {
     "name": "stdout",
     "output_type": "stream",
     "text": [
      "Even numbers: [2, 4, 6, 8, 10]\n"
     ]
    }
   ],
   "source": [
    "# Define a function to filter even numbers\n",
    "def is_even(num):\n",
    "    return num % 2 == 0\n",
    "\n",
    "# Example usage of filter()\n",
    "numbers = [1, 2, 3, 4, 5, 6, 7, 8, 9, 10]\n",
    "\n",
    "# Filtering even numbers using filter() and is_even() function\n",
    "even_numbers = list(filter(is_even, numbers))\n",
    "print(\"Even numbers:\", even_numbers)\n"
   ]
  },
  {
   "cell_type": "code",
   "execution_count": 16,
   "id": "5bb2d985",
   "metadata": {},
   "outputs": [
    {
     "name": "stdout",
     "output_type": "stream",
     "text": [
      "Even numbers [2, 4, 6, 8, 10]\n"
     ]
    }
   ],
   "source": [
    "def myfilter(func, iterable):\n",
    "    filtered_items = []\n",
    "    for item in iterable:\n",
    "        if func(item):\n",
    "            filtered_items.append(item)\n",
    "    return filtered_items\n",
    "\n",
    "def is_even(num):\n",
    "    return num % 2 == 0\n",
    "\n",
    "numbers = [1,2,3,4,5,6,7,8,9,10]\n",
    "\n",
    "even_numbers = myfilter(is_even, numbers)\n",
    "print(\"Even numbers\", even_numbers)\n"
   ]
  },
  {
   "cell_type": "markdown",
   "id": "7a8ced71",
   "metadata": {},
   "source": [
    "## Ques 2: Implement List comprehensions to produce the following lists.\n",
    "### Write List comprehensions to produce the following Lists\n",
    "### ['A', 'C', 'A', 'D', 'G', 'I', ’L’, ‘ D’]\n",
    "### ['x', 'xx', 'xxx', 'xxxx', 'y', 'yy', 'yyy', 'yyyy', 'z', 'zz', 'zzz', 'zzzz']\n",
    "### ['x', 'y', 'z', 'xx', 'yy', 'zz', 'xxx', 'yyy', 'zzz', 'xxxx', 'yyyy', 'zzzz']\n",
    "### [[2], [3], [4], [3], [4], [5], [4], [5], [6]] [[2, 3, 4, 5], [3, 4, 5, 6],\n",
    "### [4, 5, 6, 7], [5, 6, 7, 8]]\n",
    "### [(1, 1), (2, 1), (3, 1), (1, 2), (2, 2), (3, 2), (1, 3), (2, 3), (3, 3)]"
   ]
  },
  {
   "cell_type": "code",
   "execution_count": 18,
   "id": "2c839758",
   "metadata": {},
   "outputs": [
    {
     "name": "stdout",
     "output_type": "stream",
     "text": [
      "List 1: ['A', 'C', 'A', 'D', 'G', 'I', 'L', 'D']\n",
      "List 2: ['x', 'xx', 'xxx', 'xxxx', 'y', 'yy', 'yyy', 'yyyy', 'z', 'zz', 'zzz', 'zzzz']\n",
      "List 3: ['x', 'y', 'z', 'xx', 'yy', 'zz', 'xxx', 'yyy', 'zzz', 'xxxx', 'yyyy', 'zzzz']\n",
      "List 4: [[2], [3], [4], [3], [4], [5], [4], [5], [6]]\n",
      "List 5: [[2, 3, 4, 5], [3, 4, 5, 6], [4, 5, 6, 7], [5, 6, 7, 8]]\n",
      "List 6: [(1, 1), (2, 1), (3, 1), (1, 2), (2, 2), (3, 2), (1, 3), (2, 3), (3, 3)]\n"
     ]
    }
   ],
   "source": [
    "# List comprehension to produce ['A', 'C', 'A', 'D', 'G', 'I', 'L', 'D']\n",
    "list_1 = [char for char in 'ACADGILD']\n",
    "\n",
    "# List comprehension to produce ['x', 'xx', 'xxx', 'xxxx', 'y', 'yy', 'yyy', 'yyyy', 'z', 'zz', 'zzz', 'zzzz']\n",
    "list_2 = [char * num for char in 'xyz' for num in range(1, 5)]\n",
    "\n",
    "# List comprehension to produce ['x', 'y', 'z', 'xx', 'yy', 'zz', 'xxx', 'yyy', 'zzz', 'xxxx', 'yyyy', 'zzzz']\n",
    "list_3 = [char * num for num in range(1, 5) for char in 'xyz']\n",
    "\n",
    "# List comprehension to produce [[2], [3], [4], [3], [4], [5], [4], [5], [6]]\n",
    "list_4 = [[num + i] for num in range(2, 5) for i in range(3)]\n",
    "\n",
    "# List comprehension to produce [[2, 3, 4, 5], [3, 4, 5, 6], [4, 5, 6, 7], [5, 6, 7, 8]]\n",
    "list_5 = [[num + i for i in range(4)] for num in range(2, 6)]\n",
    "\n",
    "# List comprehension to produce [(1, 1), (2, 1), (3, 1), (1, 2), (2, 2), (3, 2), (1, 3), (2, 3), (3, 3)]\n",
    "list_6 = [(y, x) for x in range(1, 4) for y in range(1, 4)]\n",
    "\n",
    "# Print the lists\n",
    "print(\"List 1:\", list_1)\n",
    "print(\"List 2:\", list_2)\n",
    "print(\"List 3:\", list_3)\n",
    "print(\"List 4:\", list_4)\n",
    "print(\"List 5:\", list_5)\n",
    "print(\"List 6:\", list_6)\n"
   ]
  },
  {
   "cell_type": "code",
   "execution_count": 32,
   "id": "a21273e0",
   "metadata": {},
   "outputs": [
    {
     "name": "stdout",
     "output_type": "stream",
     "text": [
      "List 1 : ['A', 'C', 'A', 'D', 'G', 'I', 'L', 'D']\n",
      "List 2 : ['x', 'xx', 'xxx', 'xxxx', 'y', 'yy', 'yyy', 'yyyy', 'z', 'zz', 'zzz', 'zzzz']\n",
      "List 3 : ['x', 'y', 'z', 'xx', 'yy', 'zz', 'xxx', 'yyy', 'zzz', 'xxxx', 'yyyy', 'zzzz']\n",
      "List 4 : [[2], [3], [4], [3], [4], [5], [4], [5], [6]]\n",
      "List 5 : [[2, 3, 4, 5], [3, 4, 5, 6], [4, 5, 6, 7], [5, 6, 7, 8]]\n"
     ]
    }
   ],
   "source": [
    "list_1 = [char for char in \"ACADGILD\"]\n",
    "list_2 = [char*num for char in \"xyz\" for num in range(1,5) ]\n",
    "list_3 = [char*num for num in range(1,5) for char in \"xyz\" ]\n",
    "list_4 = [[num + i] for num in range(2,5) for i in range(3) ]\n",
    "list_5 = [[num + i for i in range(4)] for num in range(2,6)  ]\n",
    "list_6 = [(x,y) for x in range(1,4) for y in range(1,4)]\n",
    "print(\"List 1 :\", list_1)\n",
    "print(\"List 2 :\", list_2)\n",
    "print(\"List 3 :\", list_3)\n",
    "print(\"List 4 :\", list_4)\n",
    "print(\"List 5 :\", list_5)\n",
    "print(\"List 5 :\", list_5)"
   ]
  },
  {
   "cell_type": "code",
   "execution_count": null,
   "id": "b290e464",
   "metadata": {},
   "outputs": [],
   "source": []
  }
 ],
 "metadata": {
  "kernelspec": {
   "display_name": "Python 3 (ipykernel)",
   "language": "python",
   "name": "python3"
  },
  "language_info": {
   "codemirror_mode": {
    "name": "ipython",
    "version": 3
   },
   "file_extension": ".py",
   "mimetype": "text/x-python",
   "name": "python",
   "nbconvert_exporter": "python",
   "pygments_lexer": "ipython3",
   "version": "3.11.4"
  }
 },
 "nbformat": 4,
 "nbformat_minor": 5
}
