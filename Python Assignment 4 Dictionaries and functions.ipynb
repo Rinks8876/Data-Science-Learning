{
 "cells": [
  {
   "cell_type": "markdown",
   "id": "828a1cce",
   "metadata": {},
   "source": [
    "## Ques 1.1: Write a Python Program(with class concepts) to find the area of the triangle using the below\n",
    "# formula. area = (s*(s-a)*(s-b)*(s-c)) ** 0.5\n",
    "## Function to take the length of the sides of triangle from user should be defined in the parent\n",
    "## class and function to calculate the area should be defined in subclass."
   ]
  },
  {
   "cell_type": "code",
   "execution_count": 2,
   "id": "fe484db5",
   "metadata": {},
   "outputs": [
    {
     "name": "stdout",
     "output_type": "stream",
     "text": [
      "Enter the length of side a: 5\n",
      "Enter the length of side b: 7\n",
      "Enter the length of side c: 7\n",
      "The area of the triangle is: 16.345871038277526\n"
     ]
    }
   ],
   "source": [
    "class Triangle:\n",
    "    def __init__(self):\n",
    "        self.side_a = float(input(\"Enter the length of side a: \"))\n",
    "        self.side_b = float(input(\"Enter the length of side b: \"))\n",
    "        self.side_c = float(input(\"Enter the length of side c: \"))\n",
    "\n",
    "class Area(Triangle):\n",
    "    def __init__(self):\n",
    "        super().__init__()\n",
    "\n",
    "    def calculate_area(self):\n",
    "        # Calculate semi-perimeter\n",
    "        s = (self.side_a + self.side_b + self.side_c) / 2\n",
    "\n",
    "        # Calculate area using the formula\n",
    "        area = (s * (s - self.side_a) * (s - self.side_b) * (s - self.side_c)) ** 0.5\n",
    "        return area\n",
    "\n",
    "# Create an instance of the subclass\n",
    "triangle = Area()\n",
    "\n",
    "# Calculate and display the area of the triangle\n",
    "area_of_triangle = triangle.calculate_area()\n",
    "print(f\"The area of the triangle is: {area_of_triangle}\")\n"
   ]
  },
  {
   "cell_type": "code",
   "execution_count": null,
   "id": "50ca4f17",
   "metadata": {},
   "outputs": [],
   "source": [
    "## Ques 1.2: Write a function filter_long_words() that takes a list of words and an integer n and returns\n",
    "## the list of words that are longer than n."
   ]
  },
  {
   "cell_type": "code",
   "execution_count": null,
   "id": "1d0ccef3",
   "metadata": {},
   "outputs": [],
   "source": [
    "def filter_long_words(word_list, n):\n",
    "    return [word for word in word_list if len(word) > n]\n",
    "\n",
    "# Example usage:\n",
    "words = [\"apple\", \"banana\", \"orange\", \"grape\", \"watermelon\"]\n",
    "n = 5\n",
    "\n",
    "longer_words = filter_long_words(words, n)\n",
    "print(f\"Words longer than {n} characters: {longer_words}\")\n"
   ]
  },
  {
   "cell_type": "code",
   "execution_count": null,
   "id": "98f78cfd",
   "metadata": {},
   "outputs": [],
   "source": [
    "def filter_long_words(word_list, n):\n",
    "    return [word for word in word_list if len(word) > n]\n",
    "\n",
    "words = ['apple', 'banana', 'orange', 'grape', 'watermelon', 'kiwi']\n",
    "\n",
    "\n",
    "longer_words = filter_long_words(words,5)\n",
    "print(f\"Words longer than {n} characters:{longer_words}\")\n"
   ]
  },
  {
   "cell_type": "markdown",
   "id": "ca84e9a5",
   "metadata": {},
   "source": [
    "## Ques2.1 : 2.1 Write a Python program using function concept that maps list of words into a list of integers\n",
    "## representing the lengths of the corresponding words.\n",
    "## Hint: If a list [ ab,cde,erty] is passed on to the python function output should come as [2,3,4]\n",
    "## Here 2,3 and 4 are the lengths of the words in the list.\n",
    "\n"
   ]
  },
  {
   "cell_type": "code",
   "execution_count": null,
   "id": "a7071c44",
   "metadata": {},
   "outputs": [],
   "source": [
    "def len_words(word_list):\n",
    "     return [len(word) for word in word_list]\n",
    "\n",
    "words = ['ab','cde','erty']\n",
    "length_words = len_words(words)\n",
    "print(f\"Length of words: {length_words}\")\n"
   ]
  },
  {
   "cell_type": "code",
   "execution_count": null,
   "id": "1c617161",
   "metadata": {},
   "outputs": [],
   "source": [
    "words = ['ab','cde','erty']\n",
    "list(map(lambda x, : len(x), words))"
   ]
  },
  {
   "cell_type": "markdown",
   "id": "34d5acbc",
   "metadata": {},
   "source": [
    "## Ques 2.2: Write a Python function which takes a character (i.e. a string of length 1) and returns True if\n",
    "# it is a vowel, False otherwise."
   ]
  },
  {
   "cell_type": "code",
   "execution_count": null,
   "id": "569d6b23",
   "metadata": {},
   "outputs": [],
   "source": [
    "def is_vowel(charac):\n",
    "    vowels = 'aeiouAEIOU'\n",
    "    return charac in vowels\n",
    "\n",
    "char = 'a'\n",
    "result = is_vowel(char)\n",
    "print(f\"Is '{char}' a vowel? {result}\")\n",
    "    "
   ]
  },
  {
   "cell_type": "code",
   "execution_count": null,
   "id": "c6adc9bf",
   "metadata": {},
   "outputs": [],
   "source": []
  }
 ],
 "metadata": {
  "kernelspec": {
   "display_name": "Python 3 (ipykernel)",
   "language": "python",
   "name": "python3"
  },
  "language_info": {
   "codemirror_mode": {
    "name": "ipython",
    "version": 3
   },
   "file_extension": ".py",
   "mimetype": "text/x-python",
   "name": "python",
   "nbconvert_exporter": "python",
   "pygments_lexer": "ipython3",
   "version": "3.11.4"
  }
 },
 "nbformat": 4,
 "nbformat_minor": 5
}
